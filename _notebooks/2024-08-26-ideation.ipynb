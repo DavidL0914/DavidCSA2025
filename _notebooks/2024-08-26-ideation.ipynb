{
 "cells": [
  {
   "cell_type": "markdown",
   "metadata": {},
   "source": [
    "---\n",
    "layout: post\n",
    "title: Ideation\n",
    "description:  Ideas for Index.md page and problems I ran into\n",
    "type: issues \n",
    "comments: true\n",
    "---"
   ]
  },
  {
   "cell_type": "markdown",
   "metadata": {
    "vscode": {
     "languageId": "plaintext"
    }
   },
   "source": [
    "# Ocean-Themed Interactive Web Experience\n",
    "\n",
    "## Inspiration\n",
    "\n",
    "The idea for an ocean-themed web project emerged from my love for the ocean. I love going to the beach and swimming, I enjoy going to aquariums and watching marine life. I want to give an aquatic feel to my site. Future plans include:\n",
    "\n",
    "- **Waves**: Simulating water movement to create a more dynamic background.\n",
    "- **Seaweed**: Adding swaying plants to enhance the sense of being underwater.\n",
    "- **More Sea Life**: Introducing additional creatures like jellyfish and dolphins to enrich the environment.\n",
    "- **Submarine**: Make the site experience feel more like the user is underwater in a submarine.\n",
    "\n",
    "## Challenges and Solutions\n",
    "\n",
    "### Floating Text Animation\n",
    "\n",
    "**Issue**: The floating text, such as \"Blub Blub,\" did not always align correctly with the fish's mouth.\n",
    "\n",
    "**Solution**: Adjusted the text's position using `getBoundingClientRect()` to ensure it appears accurately over the fish's mouth.\n",
    "\n",
    "### Animation Synchronization\n",
    "\n",
    "**Issue**: The animations for floating text and fish movements were occasionally out of sync.\n",
    "\n",
    "**Solution**: Fine-tuned the animation timings and ensured that all related CSS properties were correctly applied, resulting in smoother transitions and better synchronization.\n",
    "\n",
    "### Tools Error\n",
    "\n",
    "**Issue**: Encountered errors while using `nbconvert` to convert Jupyter notebooks to HTML, which broke my makefile. \n",
    "\n",
    "**Solution**: Investigated the error messages and updated `nbconvert` and its dependencies.\n",
    "\n",
    "### SASS Syntax Errors\n",
    "\n",
    "**Issue**: Incorrect SASS syntax led to some styles not being applied correctly and broke my styling.\n",
    "\n",
    "**Solution**: Ensured all class names and properties were accurately defined.\n",
    "\n",
    "---"
   ]
  },
  {
   "cell_type": "markdown",
   "metadata": {},
   "source": [
    "## How to change the Foreach to For loop\n",
    "\n",
    "```python\n",
    "\n",
    "// Add click event to all fish elements\n",
    "function addFishClickEvent() {\n",
    "  // Select all fish elements\n",
    "  const fishElements = document.querySelectorAll('.fish');\n",
    "  \n",
    "  // Use a traditional for loop to iterate over fish elements\n",
    "  for (let i = 0; i < fishElements.length; i++) {\n",
    "    const fish = fishElements[i];\n",
    "    fish.addEventListener('click', function() {\n",
    "      // Change the background color of the clicked fish\n",
    "      this.style.backgroundColor = getRandomColor();\n",
    "      \n",
    "      // Calculate the position of the fish's mouth\n",
    "      const rect = this.getBoundingClientRect();\n",
    "      const mouthElement = this.querySelector('span:nth-child(3)');\n",
    "      const mouthRect = mouthElement.getBoundingClientRect();\n",
    "      \n",
    "      // Calculate the position for the floating text\n",
    "      const x = mouthRect.left - rect.left + (mouthRect.width / 2);\n",
    "      const y = mouthRect.top - rect.top + (mouthRect.height / 2);\n",
    "      \n",
    "      // Create and animate floating text\n",
    "      createFloatingText(x, y);\n",
    "    });\n",
    "  }\n",
    "}\n",
    "```"
   ]
  },
  {
   "cell_type": "markdown",
   "metadata": {},
   "source": [
    "### Future plans\n",
    "\n",
    "* SASS edits as mentioned above for homepage\n",
    "* Working on more complicated python hacks for more user input and engagement "
   ]
  }
 ],
 "metadata": {
  "language_info": {
   "name": "python"
  }
 },
 "nbformat": 4,
 "nbformat_minor": 2
}
