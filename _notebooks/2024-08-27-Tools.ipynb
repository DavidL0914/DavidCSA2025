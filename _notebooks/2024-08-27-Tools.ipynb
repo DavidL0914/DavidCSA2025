{
 "cells": [
  {
   "cell_type": "markdown",
   "metadata": {},
   "source": [
    "---\n",
    "layout: post\n",
    "title: Tools Check and Notes\n",
    "description:  Notes on setting up tools and checking tools are correctly installed\n",
    "type: issues \n",
    "comments: true\n",
    "---"
   ]
  },
  {
   "cell_type": "markdown",
   "metadata": {},
   "source": [
    "# Installation and Development Notes\n",
    "\n",
    "## Shell Commands\n",
    "- **`wsl`**: Windows Subsystem for Linux. Used to access a Linux environment on a Windows machine.\n",
    "- **`cd`**: Change directory. Used to navigate between directories.\n",
    "- **`git`**: Version control system. Used for tracking changes in files and collaborating with others.\n",
    "- **`apt`**: Package manager for Debian-based distributions. Used to install and manage software packages.\n",
    "- **`brew`**: Package manager for macOS. Used to install and manage software packages on macOS systems.\n",
    "\n",
    "## Version Control\n",
    "- **Cloning Files from GitHub**: Files are cloned to your local machine using the `git clone` command followed by the repository URL. Example: `git clone https://github.com/username/repository.git`.\n",
    "- **Navigating to Files**: Use `cd` to change to the directory where the files are located. Example: `cd repository`.\n",
    "- **Updating Files on GitHub**: Changes are pushed to GitHub using `git push`. This requires committing local changes with `git commit` first. Example: \n",
    "  - Stage changes: `git add .`\n",
    "  - Commit changes: `git commit -m \"Your message\"`\n",
    "  - Push changes: `git push`\n",
    "- **Updating Template**: To update the `portfolio_2025` repository:\n",
    "  - Edit files locally.\n",
    "  - Commit changes: `git commit -am \"Updated template\"`\n",
    "  - Push changes: `git push`\n",
    "- **Making It More Applicable**: Customize the template by modifying HTML, CSS, and JavaScript files to fit your specific course requirements.\n",
    "\n",
    "## Localhost vs. Deployed Server\n",
    "- **Localhost**:\n",
    "  - **URL**: Typically `http://localhost:4000` (or another port if configured differently).\n",
    "  - **Visibility**: Only visible to you on your local machine. Others cannot access this URL.\n",
    "- **GitHub Pages**:\n",
    "  - **URL**: The URL is generally `https://username.github.io/repository`.\n",
    "  - **Visibility**: Publicly accessible to anyone with the link, making it viewable by the general public.\n",
    "\n",
    "## DNS and GitHub Pages\n",
    "- **Domain on GitHub Pages**: GitHub Pages uses a default subdomain like `username.github.io` but can be customized with a custom domain.\n",
    "- **URL Differences**: If a custom domain is used, the URL will differ from the default GitHub Pages URL. Custom domains can be configured in the repository settings under the \"Pages\" section.\n",
    "- **URL Changes**: Custom domains or subdomains can be added or changed via the GitHub Pages settings at any time."
   ]
  },
  {
   "cell_type": "code",
   "execution_count": 4,
   "metadata": {
    "vscode": {
     "languageId": "shellscript"
    }
   },
   "outputs": [
    {
     "name": "stdout",
     "output_type": "stream",
     "text": [
      "git version 2.43.0\n"
     ]
    }
   ],
   "source": [
    "!git --version"
   ]
  },
  {
   "cell_type": "code",
   "execution_count": 3,
   "metadata": {
    "vscode": {
     "languageId": "shellscript"
    }
   },
   "outputs": [
    {
     "name": "stdout",
     "output_type": "stream",
     "text": [
      "ruby 3.2.3 (2024-01-18 revision 52bb2ac0a6) [x86_64-linux-gnu]\n"
     ]
    }
   ],
   "source": [
    "!ruby --version"
   ]
  },
  {
   "cell_type": "code",
   "execution_count": 2,
   "metadata": {
    "vscode": {
     "languageId": "shellscript"
    }
   },
   "outputs": [
    {
     "name": "stdout",
     "output_type": "stream",
     "text": [
      "Python 3.12.3\n"
     ]
    }
   ],
   "source": [
    "!python --version"
   ]
  }
 ],
 "metadata": {
  "kernelspec": {
   "display_name": "venv",
   "language": "python",
   "name": "python3"
  },
  "language_info": {
   "codemirror_mode": {
    "name": "ipython",
    "version": 3
   },
   "file_extension": ".py",
   "mimetype": "text/x-python",
   "name": "python",
   "nbconvert_exporter": "python",
   "pygments_lexer": "ipython3",
   "version": "3.12.3"
  }
 },
 "nbformat": 4,
 "nbformat_minor": 2
}
