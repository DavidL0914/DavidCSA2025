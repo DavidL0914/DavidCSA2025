{
 "cells": [
  {
   "cell_type": "markdown",
   "metadata": {},
   "source": [
    "---\n",
    "layout: post\n",
    "title: Running python code\n",
    "description:  Some simple python code to demonstrate jupyter works.\n",
    "type: issues \n",
    "comments: true\n",
    "---"
   ]
  },
  {
   "cell_type": "code",
   "execution_count": 4,
   "metadata": {},
   "outputs": [
    {
     "name": "stdout",
     "output_type": "stream",
     "text": [
      "👎 Hi! 😀\n"
     ]
    }
   ],
   "source": [
    "from emoji import emojize \n",
    "print(emojize(\":thumbs_down: Hi! :grinning_face:\"))"
   ]
  },
  {
   "cell_type": "code",
   "execution_count": 5,
   "metadata": {},
   "outputs": [
    {
     "name": "stdout",
     "output_type": "stream",
     "text": [
      "Guess the number between 1 and 10. You have 3 tries.\n",
      "Wrong guess. 2 tries left.\n",
      "Wrong guess. 1 tries left.\n",
      "Wrong guess. 0 tries left.\n",
      "Sorry, the number was 5.\n"
     ]
    }
   ],
   "source": [
    "import random\n",
    "\n",
    "def guess_number():\n",
    "    number = random.randint(1, 10)\n",
    "    tries = 3\n",
    "    print(\"Guess the number between 1 and 10. You have 3 tries.\")\n",
    "\n",
    "    while tries > 0:\n",
    "        guess = int(input(\"Enter your guess: \"))\n",
    "        if guess == number:\n",
    "            print(\"Congrats! You guessed it!\")\n",
    "            break\n",
    "        else:\n",
    "            tries -= 1\n",
    "            print(f\"Wrong guess. {tries} tries left.\")\n",
    "\n",
    "    if tries == 0:\n",
    "        print(f\"Sorry, the number was {number}.\")\n",
    "\n",
    "guess_number()\n"
   ]
  }
 ],
 "metadata": {
  "kernelspec": {
   "display_name": "Python 3",
   "language": "python",
   "name": "python3"
  },
  "language_info": {
   "codemirror_mode": {
    "name": "ipython",
    "version": 3
   },
   "file_extension": ".py",
   "mimetype": "text/x-python",
   "name": "python",
   "nbconvert_exporter": "python",
   "pygments_lexer": "ipython3",
   "version": "3.12.3"
  }
 },
 "nbformat": 4,
 "nbformat_minor": 2
}
