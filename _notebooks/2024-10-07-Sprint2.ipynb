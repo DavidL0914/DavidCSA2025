{
 "cells": [
  {
   "cell_type": "markdown",
   "metadata": {},
   "source": [
    "---\n",
    "layout: post\n",
    "title: Sprint 2 - CSA Objectives \n",
    "description:  Review of all CSA Team Teaches\n",
    "type: issues \n",
    "comments: true\n",
    "---"
   ]
  },
  {
   "cell_type": "markdown",
   "metadata": {},
   "source": [
    "## Student Teaching - Fundamentals Review"
   ]
  },
  {
   "cell_type": "markdown",
   "metadata": {
    "vscode": {
     "languageId": "plaintext"
    }
   },
   "source": [
    "| **Assignment**             | **Points**    | **Grade** | **Evidence**|\n",
    "|----------------------------|---------------|-----------|-------------|\n",
    "| Pull Request (Integration) | 2             | 1.65      | ![PullReq](https://github.com/user-attachments/assets/eef10869-1fc0-4f57-8a56-1ce2f78dbec8) |\n",
    "| Relevancy Checklist (Peer) | 2             |           | See below       |\n",
    "| Lesson (Group)             | 1             | 0.91      | ![Lesson ss](https://github.com/user-attachments/assets/c4f56a20-5dca-4660-8236-dc760b9f0fc5) |\n",
    "| Homework, Popcorn Hacks    | 1 x 8         | 3.7475 (just from the 4 currently released)   | [Grading lists](https://docs.google.com/spreadsheets/d/1sGQtZm9GI2Rze5F7Eh_P1CMNO8Fyag4bCtOT0ddARmc/edit?gid=0#gid=0)             |\n",
    "| Individual Contribution    | 1             | 0.92          | [My commits](https://github.com/Th35py27/TDJN_2025/commits?author=DavidL0914)             |\n",
    "| Personal Notebooks / Blogs | 1             | 0.9       | [Blog](https://davidl0914.github.io/DavidCSA2025/blogs/)             |\n",
    "| Total                      | 12            |           |              |\n",
    "\n",
    "<br>\n",
    "\n",
    "| **Skill**                  | **Points**    | **Grade** | **Evidence** |\n",
    "|----------------------------|---------------|-----------|--------------|\n",
    "| Work Habits (Analytics)    | 1             | 0.88      | ![Github Analytics](https://github.com/user-attachments/assets/709c77da-cb5d-41a8-b767-c733aaa2bd73) |\n",
    "| Team Planning (Issue)      | 1             | 0.9       | [Planning Issue](https://github.com/Th35py27/2D_Array/issues/1)             |\n",
    "| Presentation Memories      | 1             | 0.9       | Josh and I practicing our lesson at Panera |\n",
    "| Grading and Feedback       | 1             | 0.89      | ![Grading ss](https://github.com/user-attachments/assets/96aabd94-7f03-4d90-b455-45f37a7ffe95)  |\n",
    "| Beyond Perfunctory         |   1           | 0.9         | Seed  | \n",
    "| Total                      |   5           | 4.47         |            |\n",
    "\n",
    "**Grading Guidelines**\n",
    "\n",
    "55% is minimum per item\n",
    "\n",
    "75% is mostly done\n",
    "\n",
    "85% is complete\n",
    "\n",
    "90% is maximum perfection"
   ]
  },
  {
   "cell_type": "markdown",
   "metadata": {},
   "source": [
    "## Topic Relevancy Peer Grading "
   ]
  },
  {
   "cell_type": "markdown",
   "metadata": {},
   "source": [
    "| **Assignment**          | **Weightage** | **Grade** | **Comments** |\n",
    "|-------------------------|---------------|-----------|--------------|\n",
    "| College Board Coverage  | 20            | TBD       | TBD          |\n",
    "| Java Examples           | 30            | TBD       | TBD          |\n",
    "| Popcorn Hack Usage      | 10            | TBD       | TBD          |\n",
    "| Homework                | 10            | TBD       | TBD          |\n",
    "| Grading Plan            | 10            | TBD       | TBD          |\n",
    "| Original an Creative    | 10            | TBD       | TBD          |\n",
    "| Total                  | **90**        |           |              |"
   ]
  }
 ],
 "metadata": {
  "language_info": {
   "name": "python"
  }
 },
 "nbformat": 4,
 "nbformat_minor": 2
}
