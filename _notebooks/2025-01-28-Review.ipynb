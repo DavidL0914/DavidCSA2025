{
 "cells": [
  {
   "cell_type": "markdown",
   "metadata": {},
   "source": [
    "---\n",
    "layout: post\n",
    "title: PBL Review\n",
    "type: issues\n",
    "comments: true\n",
    "courses: { csa: {week: 20} }\n",
    "type: ccc\n",
    "---"
   ]
  },
  {
   "cell_type": "markdown",
   "metadata": {},
   "source": [
    "### Analytics:\n",
    "**Frontend**\n",
    "<br>\n",
    "\n",
    "![Frontend Commits](https://github.com/user-attachments/assets/6cd54f29-1fd3-46d3-99bf-020c08cae646)\n",
    "\n",
    "**Backend**\n",
    "<br>\n",
    "\n",
    "![Backend Commits](https://github.com/user-attachments/assets/8d85aac2-e091-4ef1-b492-e9a0799bc993)"
   ]
  },
  {
   "cell_type": "markdown",
   "metadata": {},
   "source": [
    "### Usage of Toolkit\n",
    "\n",
    "**Using features:**\n",
    "* SAGAI (our feature): Used the tool to study for FRQ topics during team teaches by doing extra practice with the generator\n",
    "* SAGAI (our feature): Generated the MC questions for the review part of my team teach on 2D arrays\n",
    "* Calendar Feature: Used to track team meetings, FRQ teaching dates, deadlines for proper organization and planning\n",
    "* Table Management Feature: Set up and managed task delegation for teammates, ensuring responsibilities were clear and progress was visible to everyone\n",
    "* Screen Queue Feature: Placed myself in line for review"
   ]
  },
  {
   "cell_type": "markdown",
   "metadata": {},
   "source": [
    "### Drawio Diagrams\n",
    "\n",
    "![DrawIO](https://github.com/user-attachments/assets/69152ba4-e837-4027-b206-c56e8a60a79c)\n",
    "\n",
    "[\"A picture is worth a thousand words\"](https://github.com/DavidL0914/DavidCSA2025/blob/main/drawio/PBL.drawio)"
   ]
  },
  {
   "cell_type": "markdown",
   "metadata": {},
   "source": [
    "### Product Management\n",
    "\n",
    "**Scrum Master**\n",
    "* Communicated with Sharon and Ian (who communicated with Mr. M) to ensure project meets standards\n",
    "    * Changed to student toolkit from teacher toolkit\n",
    "    * Removed checking cookie features from only the generator feature\n",
    "* Collaborated with Aidan to get features merged from pull requests\n",
    "* Over weekend worked with AI team on SAGAI at Panera to ensure everything looks smooth and integrated"
   ]
  }
 ],
 "metadata": {
  "language_info": {
   "name": "python"
  }
 },
 "nbformat": 4,
 "nbformat_minor": 2
}
