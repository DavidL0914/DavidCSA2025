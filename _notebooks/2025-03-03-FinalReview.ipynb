{
 "cells": [
  {
   "cell_type": "markdown",
   "metadata": {},
   "source": [
    "---\n",
    "layout: post\n",
    "title: Key Features and Diagrams\n",
    "type: issues\n",
    "comments: true\n",
    "courses: { csa: {week: 25} }\n",
    "type: ccc\n",
    "---"
   ]
  },
  {
   "cell_type": "markdown",
   "metadata": {},
   "source": [
    "# Key Java Concepts Integrated Into Project:\n",
    "\n",
    "1. Object-Oriented Programming (OOP) Fundamentals\n",
    "- A major part of the project was built using object-oriented principles. OOP allows for cleaner, more maintainable code by organizing the system into discrete objects with specific responsibilities. Here's how OOP applied to my code:\n",
    "   - Classes and Objects: The core of the project revolves around defining classes, such as GeneratedQuestion and SaveQuestionController, which act as blueprints for how questions are handled in the system. These classes provide attributes (fields) and methods (functions) that define the behavior of the objects.\n",
    "   - Encapsulation: I utilized private fields and public getters/setters in classes like GeneratedQuestion to control access and modify the internal state of objects. This improves code security and maintainability.\n",
    "\n",
    "2. Database Schema Design and Persistence\n",
    "- To store the generated questions and their associated tags, I used JPA (Java Persistence API). This was crucial for handling persistent data efficiently, making the interaction between the application and the database seamless.\n",
    "- Database Schema: The GeneratedQuestion entity is mapped to a database table with an auto-incremented primary key. Each question can have multiple tags, which are stored in a separate table using the @ElementCollection annotation.\n",
    "- JPA Repository: The GeneratedQuestionRepository interface extends JpaRepository, allowing for the easy querying and saving of GeneratedQuestion objects to the database with minimal boilerplate code.\n",
    "\n",
    "3. Working with JSON for Data Exchange\n",
    "- One of the key features of the project is the interaction with an external API to generate questions based on user input. The generated questions are returned as JSON, which we handle using Jackson, a popular JSON processing library in Java.\n",
    "   - JSONizing Data: The callGroqAPI() method sends a POST request to the API, with the question data formatted as a JSON string. The response is then processed and parsed back into a usable format. Using Jackson's ObjectMapper makes this process straightforward, and the response is directly mapped into a string that the user can view.\n",
    "\n",
    "4. API Integration and HTTP Requests\n",
    "- My project needed to interact with a third-party service (Groq API) to generate questions. Understanding HTTP requests, responses, and headers is critical when working with external services.\n",
    "   - Handling API Requests: The RestTemplate class was used to send a POST request with a JSON payload to Groq's API. The server’s response is processed and returned back to the frontend for display. Managing the API calls and handling possible errors (e.g., network issues or incorrect responses) were key challenges that required careful handling.\n",
    "\n",
    "# Conclusion: Key Takeaways\n",
    "This project demonstrated several core Java principles while creating a feature that integrates backend and frontend functionality. From object-oriented programming and working with databases to handling HTTP requests and JSON data, these are essential skills for any Java developer. As this project continues to evolve, I will focus on further optimizing the API interaction and improving the user experience with more advanced JavaScript and backend features."
   ]
  },
  {
   "cell_type": "markdown",
   "metadata": {},
   "source": [
    "# Mermaid Diagram:\n",
    "![Image](https://github.com/user-attachments/assets/73daae8c-441f-428b-8014-bd0283aaf9db)\n",
    "\n",
    "# DrawIO Diagram:\n",
    "![DrawIO](https://github.com/user-attachments/assets/69152ba4-e837-4027-b206-c56e8a60a79c)"
   ]
  }
 ],
 "metadata": {
  "kernelspec": {
   "display_name": "Python 3",
   "language": "python",
   "name": "python3"
  },
  "language_info": {
   "codemirror_mode": {
    "name": "ipython",
    "version": 3
   },
   "file_extension": ".py",
   "mimetype": "text/x-python",
   "name": "python",
   "nbconvert_exporter": "python",
   "pygments_lexer": "ipython3",
   "version": "3.12.3"
  }
 },
 "nbformat": 4,
 "nbformat_minor": 2
}
