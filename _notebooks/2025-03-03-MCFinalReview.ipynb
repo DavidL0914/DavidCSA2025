{
 "cells": [
  {
   "cell_type": "markdown",
   "metadata": {},
   "source": [
    "---\n",
    "layout: post\n",
    "title: MCQ Correction/Reflection\n",
    "type: issues\n",
    "comments: true\n",
    "courses: { csa: {week: 25} }\n",
    "type: ccc\n",
    "---"
   ]
  },
  {
   "cell_type": "markdown",
   "metadata": {},
   "source": [
    "# Score:\n",
    "\n",
    "![Image](https://github.com/user-attachments/assets/a17cfe31-46d4-4ab1-b41d-2b1cfba208c3)"
   ]
  },
  {
   "cell_type": "markdown",
   "metadata": {},
   "source": [
    "# Corrections:\n",
    "![Image](https://github.com/user-attachments/assets/6ede7273-d7a7-4448-ae6b-ed6f3b663186)\n",
    "- Why I initially thought it was C: Option C simulates rolling one number cube by generating random values between 0 and 5, then casting them to integers. By adding two such values together, it seemed to simulate the sum of the rolls of two cubes. However, this doesn't correctly simulate the range of numbers from 1 to 6 for each cube.\n",
    "- Why C is wrong: The expression (int) (Math.random() * 6) + (int) (Math.random() * 6) generates random integers between 0 and 5 (inclusive), which would result in the sum of two numbers in the range 0 to 10. This isn't the right simulation of two number cubes, where the result should be in the range of 2 to 12 (since each cube roll produces a number between 1 and 6).\n",
    "- Why E is correct: Option E correctly simulates the sum of two number cubes by adding 2 to the result. The expression (int) (Math.random() * 6) generates a value between 0 and 5. By adding 1 to each result (i.e., adjusting the range to 1 to 6), and then summing the results of two rolls, the total sum can range from 2 to 12, which accurately reflects the possible outcomes of rolling two dice. The 2 in the beginning ensures that the sum starts at the minimum value of 2, not 0.\n",
    "\n",
    "![Image](https://github.com/user-attachments/assets/098d4996-266f-4041-9fe2-b1d7e96bf17c)\n",
    "- Why I initially thought it was D: I assumed that the recursion would print the values of arg in descending order as the method unwound. I thought the method would first recursively call showMe(0), then showMe(1), and so on until it reached showMe(9), after which it would print the values as it returned from the recursive calls, resulting in the output 9 8 7 6 5 4 3 2 1 0.\n",
    "- Why D is wrong: The method actually does not print anything during the recursive calls while it’s incrementing arg. It only prints when arg reaches 10. The recursion continues until arg equals 10, but at that point, it prints the value 10 and then exits the recursion without printing any earlier values. This means that the output is simply 10, not a countdown.\n",
    "- Why A is correct: The method starts by calling itself recursively with increasingly larger values of arg (starting from 0) until arg reaches 10. When arg becomes 10, it prints 10 and the recursion stops. No other values are printed during the recursive calls, so the output is just 10.\n",
    "\n",
    "![Image](https://github.com/user-attachments/assets/43bf48d2-2743-4749-99b2-db0271cbf4c5)\n",
    "- Why E is wrong: The nested for loop iterate over numbers in column major order and 142536 will be printed.\n",
    "- Why A is correct: The outer for loop iterates over every row of numbers and assigns each row to the array row.  The inner loop iterates over the array row accessing each element and assigning it to n. Then n is printed to the screen. In the first iteration of the outer loop, row is equal to {1, 2, 3}, and the inner loop will assign each successive value in row to n and print it to the screen, meaning 123 will be printed. For the second iteration of the outer loop, row is equal to {4, 5, 6}, and the inner loop will assign each successive value in row to n and print it to the screen, meaning 456 will be printed after 123, giving us the output 123456.\n",
    "\n",
    "![Image](https://github.com/user-attachments/assets/3fd27a90-28a1-4520-b06b-e76b443bdf89)\n",
    "- Why I initially thought it was B: I rushed through the problem and didn't look at the answer choices carefully enough.\n",
    "- Why E is correct: The first \"for\" loop has an inner \"for\" loop and populates the entire 5x5 array with with \"O\". The code then has another \"for\" loop that loops through the numbers 0 to 4. The \"for\" loop ends when val = 5. The \"if\" condition checks for remainders = 1. The numbers 1 and 3 will produce a remainder of 1 in the range of 0 to 4. The \"while\" statement starts with the row variable set to the number '1' with the first pass. An \"X\" is set in [1][0]. the col variable is increased but the row variable is decreased. Given the while condition is \"(col < 5 && row >= 0)\" and col++ and row-- there will be one additional pass through the while block code before it exits. An \"X\" is set in [0][1]. The row variable is now 0 so the while loop ends. The \"while\" statement runs the second and last time with the row variable set to the number '3'. as the code is col++ and row-- here's what gets set: X at row 3 col 0, X at row 2 col 1, X at row 1 col 2, X at row 0 col 3. The program ends at this point as only the numbers 1 and 3 will produce a remainder of 1 in the range of 0 to 4.\n",
    "\n",
    "![Image](https://github.com/user-attachments/assets/fbe6a9dc-37d3-4e15-b413-82283fd1f74f)\n",
    "- Why I initially thought it was C: It seems logical to subtract 1 from the size of the list to determine the last index, which is sizeOfList - 1. The expression listOfWords.size() - 1 appears to give the correct index for the last element of the list. Additionally, the condition k != sizeOfList - 1 correctly checks whether the current index k is not the last one, which would imply adding a comma after each word except the last one.\n",
    "- Why C is wrong: The key issue with C is that the expression listOfWords.size() - 1 is unnecessary for the size of the list. The size of the list itself is listOfWords.size(), and the sizeOfList variable is already intended to hold this value. The sizeOfList variable should be set to listOfWords.size() directly. By using listOfWords.size() - 1 in the expression, you're inadvertently introducing an off-by-one error.\n",
    "Why D is correct: The expression listOfWords.size() correctly gives the total number of elements in the list. The condition k != sizeOfList - 1 ensures that a comma is added after every word except the last one. Since k starts from 0, it will go up to sizeOfList - 1, so k != sizeOfList - 1 checks if the current index is not the last index, and only adds a comma if it's not the last word.\n",
    "\n",
    "![Image](https://github.com/user-attachments/assets/ac2b0cef-8d93-4cf3-9635-5cecb8e41f10)\n",
    "- Why I initially thought it was B: I initially expect the first loop to print the original elements (\"Alex\", \"Bob\", \"Carl\") before they are replaced by \"Alex\". Since students.set(k, \"Alex\") replaces the element at index k with \"Alex\" and returns the old value, I assumed the first loop prints \"Alex\", \"Bob\", and \"Carl\".\n",
    "- Why B is wrong: In the first loop, the method set(k, \"Alex\") replaces the element at index k with \"Alex\", but it returns the original value before the replacement. So, For k = 0, it prints \"Alex\" (replaces \"Alex\" with \"Alex\"). For k = 1, it prints \"Bob\" (replaces \"Bob\" with \"Alex\"). For k = 2, it prints \"Carl\" (replaces \"Carl\" with \"Alex\"). After the first loop, the list becomes [\"Alex\", \"Alex\", \"Alex\"], not [\"Alex\", \"Bob\", \"Carl\"]. Therefore, the output of the first loop is \"Alex Bob Carl\", not \"Alex Alex Alex\", so B is incorrect.\n",
    "- Why C is correct: The first loop prints the original values (\"Alex\", \"Bob\", \"Carl\") before replacing them, so the output is \"Alex Bob Carl\". After the first loop, the list is now [\"Alex\", \"Alex\", \"Alex\"]. The second loop prints the updated list, which contains all \"Alex\" values, resulting in \"Alex Alex Alex\"."
   ]
  },
  {
   "cell_type": "markdown",
   "metadata": {},
   "source": [
    "# Key Takeaways:\n",
    "1. Understand Method Behavior:\n",
    "- Be clear on what methods return versus what they modify. Methods like set() modify the list but return the old value, which is important for printing or using it correctly.\n",
    "2. Watch for Logical Flow:\n",
    "- Understand the logical flow of loops, especially when modifying data during the loop. Consider how the data is being updated and how that affects subsequent iterations.\n",
    "3. Edge Cases and Conditions:\n",
    "- When writing loops or conditions, carefully think about edge cases (like the last element in a list) and ensure your conditions handle them correctly (e.g., not adding a comma after the last element).\n",
    "4. State Changes:\n",
    "- Be mindful of how data structures change over time (e.g., modifying a list in a loop), and check the final state of your data before making assumptions about output.\n",
    "5. Avoid Assumptions About Output:\n",
    "- Don’t assume output based on initial expectations without considering how methods and loops actually work. Always trace through the logic carefully to ensure accurate predictions."
   ]
  }
 ],
 "metadata": {
  "language_info": {
   "name": "python"
  }
 },
 "nbformat": 4,
 "nbformat_minor": 2
}
