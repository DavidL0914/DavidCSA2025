{
 "cells": [
  {
   "cell_type": "markdown",
   "metadata": {},
   "source": [
    "---\n",
    "layout: post\n",
    "type: collab\n",
    "title: Unit 4 - HW Quiz\n",
    "description: Unit 4 Team Teach HW QUIZ\n",
    "comments: true\n",
    "permalink: /csa/unit4-p1/unit4-hwquiz\n",
    "menu: nav/CSA_Units/csa_unit4_p1.html\n",
    "author: hanlun, saaras, arthur, miheer, eshaan, beijan\n",
    "---"
   ]
  },
  {
   "cell_type": "markdown",
   "metadata": {},
   "source": [
    "## Unit 4 - Iteration:\n",
    "- This is the homework quiz for unit 4, iterations\n",
    "- 4 multiple choice questions\n",
    "- 2 programming hacks\n",
    "- 1 bonus programming hack (required to get above 0.9)"
   ]
  },
  {
   "cell_type": "markdown",
   "metadata": {},
   "source": [
    "### Question 1:\n",
    "What does the following code print?   \n",
    "\n",
    "A. 5 6 7 8 9   \n",
    "\n",
    "B. 4 5 6 7 8 9 10 11 12   \n",
    "\n",
    "C. 3 5 7 9 11   \n",
    "\n",
    "D. 3 4 5 6 7 8 9 10 11 12   \n",
    "\n",
    "**Answer: D** - The code for (int i = 3; i <= 12; i++) { System.out.print(i + \" \"); } starts with i = 3 and prints i as long as i is less than or equal to 12. The i++ increments the value of i by 1 after each iteration. Thus, the loop prints numbers from 3 to 12, inclusive.\n",
    "\n",
    "<details>\n",
    "<summary>Click to reveal answer:</summary> \n",
    "  D\n",
    "</details>\n",
    "\n",
    "Explain your answer. (explanation is graded not answer)"
   ]
  },
  {
   "cell_type": "code",
   "execution_count": null,
   "metadata": {
    "vscode": {
     "languageId": "java"
    }
   },
   "outputs": [],
   "source": [
    "for (int i = 3; i <= 12; i++) {\n",
    "   System.out.print(i + \" \");\n",
    "}"
   ]
  },
  {
   "cell_type": "markdown",
   "metadata": {},
   "source": [
    "### Bonus:\n",
    "- Explain the difference between using a variable like i inside a for loop, vs. using a variable that exists in the code itself for a while loop"
   ]
  },
  {
   "cell_type": "markdown",
   "metadata": {},
   "source": [
    "### Question 2:\n",
    "How many times does the following method print a \"*\" ?\n",
    "\n",
    "A. 9\n",
    "\n",
    "B. 7\n",
    "\n",
    "C. 8\n",
    "\n",
    "D. 6\n",
    "\n",
    "**Answer: C** - The loop for (int i = 3; i < 11; i++) { System.out.print(\"*\"); } runs as long as i < 11. The loop starts at i = 3 and continues until i = 10 (since i < 11). Thus, we get 3 to 10 inclusive, meaning the loop runs 8 times, so 8 astericks are printed.\n",
    "\n",
    "<details>\n",
    "<summary>Click to reveal answer:</summary> \n",
    "  C\n",
    "</details>\n",
    "\n",
    "Explain your answer. (explanation is graded not answer)"
   ]
  },
  {
   "cell_type": "code",
   "execution_count": null,
   "metadata": {
    "vscode": {
     "languageId": "java"
    }
   },
   "outputs": [],
   "source": [
    "for (int i = 3; i < 11; i++) {\n",
    "   System.out.print(\"*\");\n",
    "}"
   ]
  },
  {
   "cell_type": "markdown",
   "metadata": {},
   "source": [
    "### Question 3:\n",
    "What does the following code print?\n",
    "\n",
    "A. -4 -3 -2 -1 0\n",
    "\n",
    "B. -5 -4 -3 -2 -1\n",
    "\n",
    "C. 5 4 3 2 1\n",
    "\n",
    "**Answer: A** - The while loop runs while x < 0. Initially, x = -5. In each iteration, x is incremented by 1 (x++), and the updated value of x is printed. Thus, The loop increments x from -5 to -1 and will print the values -4 -3 -2 -1 0.\n",
    "\n",
    "<details>\n",
    "<summary>Click to reveal answer:</summary> \n",
    "  A\n",
    "</details>\n",
    "\n",
    "Explain your answer. (explanation is graded not answer)"
   ]
  },
  {
   "cell_type": "code",
   "execution_count": null,
   "metadata": {
    "vscode": {
     "languageId": "java"
    }
   },
   "outputs": [],
   "source": [
    "int x = -5;\n",
    "while (x < 0)\n",
    "{\n",
    "   x++;\n",
    "   System.out.print(x + \" \");\n",
    "}"
   ]
  },
  {
   "cell_type": "markdown",
   "metadata": {},
   "source": [
    "### Question 4:\n",
    "What does the following code print?\n",
    "\n",
    "A. 20\n",
    "\n",
    "B. 21\n",
    "\n",
    "C. 25\n",
    "\n",
    "D. 30\n",
    "\n",
    "**Answer: B** - The for loop runs for i = 1 to i = 5. If i is even, the program adds i * 2 to sum; otherwise, it adds i to sum. i = 1, sum = 1 (odd, so sum += 1), i = 2, sum = 5 (even, so sum += 2 * 2 = 4), i = 3, sum = 8 (odd, so sum += 3), i = 4, sum = 16 (even, so sum += 4 * 2 = 8), i = 5, sum = 21 (odd, so sum += 5). Thus the final sum is 21. \n",
    "\n",
    "<details>\n",
    "<summary>Click to reveal answer:</summary> \n",
    "  B\n",
    "</details>\n",
    "\n",
    "Explain your answer. (explanation is graded not answer)"
   ]
  },
  {
   "cell_type": "code",
   "execution_count": null,
   "metadata": {
    "vscode": {
     "languageId": "java"
    }
   },
   "outputs": [],
   "source": [
    "int sum = 0;\n",
    "\n",
    "for (int i = 1; i <= 5; i++) {\n",
    "    if (i % 2 == 0) {\n",
    "        sum += i * 2;\n",
    "    } else {\n",
    "        sum += i;\n",
    "    }\n",
    "}\n",
    "\n",
    "System.out.println(sum);"
   ]
  },
  {
   "cell_type": "markdown",
   "metadata": {},
   "source": [
    "## Loops HW Hack"
   ]
  },
  {
   "cell_type": "markdown",
   "metadata": {},
   "source": [
    "### Easy Hack\n",
    "- Use a while loop to find the numbers from 1-50 that are divisible by 3 or 5, then store them into a list (make sure to print it out at the end)\n",
    "- Use a for loop to do the same thing detailed above"
   ]
  },
  {
   "cell_type": "code",
   "execution_count": 4,
   "metadata": {
    "vscode": {
     "languageId": "java"
    }
   },
   "outputs": [
    {
     "name": "stdout",
     "output_type": "stream",
     "text": [
      "[3, 5, 6, 9, 10, 12, 15, 18, 20, 21, 24, 25, 27, 30, 33, 35, 36, 39, 40, 42, 45, 48, 50]\n"
     ]
    }
   ],
   "source": [
    "import java.util.ArrayList;\n",
    "\n",
    "public class DivisibleBy3or5 {\n",
    "    public static void main(String[] args) {\n",
    "        ArrayList<Integer> divisibleNumbers = new ArrayList<>();\n",
    "        int i = 1;\n",
    "        while (i <= 50) {\n",
    "            if (i % 3 == 0 || i % 5 == 0) {\n",
    "                divisibleNumbers.add(i);\n",
    "            }\n",
    "            i++;\n",
    "        }\n",
    "        System.out.println(divisibleNumbers);\n",
    "    }\n",
    "}\n",
    "\n",
    "DivisibleBy3or5.main(null);"
   ]
  },
  {
   "cell_type": "code",
   "execution_count": 3,
   "metadata": {
    "vscode": {
     "languageId": "java"
    }
   },
   "outputs": [
    {
     "name": "stdout",
     "output_type": "stream",
     "text": [
      "[3, 5, 6, 9, 10, 12, 15, 18, 20, 21, 24, 25, 27, 30, 33, 35, 36, 39, 40, 42, 45, 48, 50]\n"
     ]
    }
   ],
   "source": [
    "import java.util.ArrayList;\n",
    "\n",
    "public class DivisibleBy3or5ForLoop {\n",
    "    public static void main(String[] args) {\n",
    "        ArrayList<Integer> divisibleNumbers = new ArrayList<>();\n",
    "        for (int i = 1; i <= 50; i++) {\n",
    "            if (i % 3 == 0 || i % 5 == 0) {\n",
    "                divisibleNumbers.add(i);\n",
    "            }\n",
    "        }\n",
    "        System.out.println(divisibleNumbers);\n",
    "    }\n",
    "}\n",
    "\n",
    "DivisibleBy3or5ForLoop.main(null);"
   ]
  },
  {
   "cell_type": "markdown",
   "metadata": {},
   "source": [
    "### Harder Hack\n",
    "#### Palindromes are numbers that have the same value when reversed (ex: “123321” or “323”). Create a program that uses a while loop that outputs all palindromes in any given list. \n",
    "\n",
    "Sample Input: \n",
    "test_list = [5672, 235, 5537, 6032, 317, 8460, 1672, 8104, 7770, 4442, 913, 2508, 1116, 9969, 9091, 522, 8756, 9527, 7968, 1520, 4444, 515, 2882, 6556, 595]\n",
    "\n",
    "Sample Output:\n",
    "4444, 515, 2882, 6556, 595"
   ]
  },
  {
   "cell_type": "code",
   "execution_count": 2,
   "metadata": {
    "vscode": {
     "languageId": "java"
    }
   },
   "outputs": [
    {
     "name": "stdout",
     "output_type": "stream",
     "text": [
      "[4444, 515, 2882, 6556, 595]\n"
     ]
    }
   ],
   "source": [
    "import java.util.ArrayList;\n",
    "\n",
    "public class PalindromeChecker {\n",
    "    public static void main(String[] args) {\n",
    "        int[] test_list = {5672, 235, 5537, 6032, 317, 8460, 1672, 8104, 7770, 4442, 913, 2508, 1116, 9969, 9091, 522, 8756, 9527, 7968, 1520, 4444, 515, 2882, 6556, 595};\n",
    "        ArrayList<Integer> palindromes = new ArrayList<>();\n",
    "        int index = 0;\n",
    "        \n",
    "        while (index < test_list.length) {\n",
    "            int number = test_list[index];\n",
    "            if (isPalindrome(number)) {\n",
    "                palindromes.add(number);\n",
    "            }\n",
    "            index++;\n",
    "        }\n",
    "        \n",
    "        System.out.println(palindromes);\n",
    "    }\n",
    "    \n",
    "    // Helper method to check if a number is a palindrome\n",
    "    public static boolean isPalindrome(int number) {\n",
    "        String str = Integer.toString(number);\n",
    "        int start = 0, end = str.length() - 1;\n",
    "        \n",
    "        while (start < end) {\n",
    "            if (str.charAt(start) != str.charAt(end)) {\n",
    "                return false;\n",
    "            }\n",
    "            start++;\n",
    "            end--;\n",
    "        }\n",
    "        return true;\n",
    "    }\n",
    "}\n",
    "\n",
    "PalindromeChecker.main(null);"
   ]
  },
  {
   "cell_type": "markdown",
   "metadata": {},
   "source": [
    "## Bonus Hack (for above 0.9)\n",
    "### Use a for loop to output a spiral matrix with size n\n",
    "Example:\n",
    "\n",
    "Sample Input: n = 3\n",
    "\n",
    "Output: [[1, 2, 3], [8, 9, 4], [7, 6, 5]]"
   ]
  },
  {
   "cell_type": "code",
   "execution_count": 1,
   "metadata": {
    "vscode": {
     "languageId": "java"
    }
   },
   "outputs": [
    {
     "name": "stdout",
     "output_type": "stream",
     "text": [
      "[1, 2, 3]\n",
      "[8, 9, 4]\n",
      "[7, 6, 5]\n"
     ]
    }
   ],
   "source": [
    "import java.util.Arrays;\n",
    "\n",
    "public class SpiralMatrix {\n",
    "    public static void main(String[] args) {\n",
    "        int n = 3;  // Change size as needed\n",
    "        int[][] matrix = new int[n][n];\n",
    "        int value = 1, top = 0, bottom = n - 1, left = 0, right = n - 1;\n",
    "        \n",
    "        while (value <= n * n) {\n",
    "            // Fill top row\n",
    "            for (int i = left; i <= right; i++) {\n",
    "                matrix[top][i] = value++;\n",
    "            }\n",
    "            top++;\n",
    "            // Fill right column\n",
    "            for (int i = top; i <= bottom; i++) {\n",
    "                matrix[i][right] = value++;\n",
    "            }\n",
    "            right--;\n",
    "            // Fill bottom row\n",
    "            for (int i = right; i >= left; i--) {\n",
    "                matrix[bottom][i] = value++;\n",
    "            }\n",
    "            bottom--;\n",
    "            // Fill left column\n",
    "            for (int i = bottom; i >= top; i--) {\n",
    "                matrix[i][left] = value++;\n",
    "            }\n",
    "            left++;\n",
    "        }\n",
    "        \n",
    "        // Print the spiral matrix\n",
    "        for (int[] row : matrix) {\n",
    "            System.out.println(Arrays.toString(row));\n",
    "        }\n",
    "    }\n",
    "}\n",
    "\n",
    "SpiralMatrix.main(null);"
   ]
  }
 ],
 "metadata": {
  "kernelspec": {
   "display_name": "Java",
   "language": "java",
   "name": "java"
  },
  "language_info": {
   "codemirror_mode": "java",
   "file_extension": ".jshell",
   "mimetype": "text/x-java-source",
   "name": "Java",
   "pygments_lexer": "java",
   "version": "17.0.12+7-Ubuntu-1ubuntu224.04"
  }
 },
 "nbformat": 4,
 "nbformat_minor": 2
}
