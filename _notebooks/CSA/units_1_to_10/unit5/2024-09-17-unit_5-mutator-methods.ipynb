{
 "cells": [
  {
   "cell_type": "raw",
   "metadata": {
    "vscode": {
     "languageId": "raw"
    }
   },
   "source": [
    "---\n",
    "layout: post\n",
    "title: Mutator Methods\n",
    "description: Team Teach\n",
    "toc: True\n",
    "permalink: /csa/unit5/5.5/\n",
    "menu: nav/CSA_Units/csa_unit5_p3.html\n",
    "\n",
    "---"
   ]
  },
  {
   "cell_type": "markdown",
   "metadata": {},
   "source": [
    "<img src=\"https://github.com/user-attachments/assets/c53b4b5d-d58c-4e06-b6d1-09df8b7ee78a\" width=\"500px\" height=\"auto\">"
   ]
  },
  {
   "cell_type": "markdown",
   "metadata": {},
   "source": [
    "## Definition\n",
    "\n",
    "A mutator method modifies an object's state my changing the value of its fields or attributes.\n",
    "\n",
    "Example:\n",
    "\n",
    "Say you have an object called \"Minion.\" If I have a field like \"name,\" a mutator method lets me change its value.\n",
    "\n",
    "## Okay but why???\n",
    "\n",
    "Mutator methods are part of Java's philsophy of \"encapsulation.\"\n",
    "\n",
    "That's nerd-speak for \"keeping things seperate\". It's the idea of enclosing data and methods as a unit. You want to restrict direct access to data, only accessing them through a PROPERLY defined way."
   ]
  },
  {
   "cell_type": "markdown",
   "metadata": {},
   "source": [
    "## Mutator method types:\n",
    "\n",
    "Accessors: can you guess what this does? That's right, it lets you *access* data. These can be called \"get\" methods or \"getters.\""
   ]
  },
  {
   "cell_type": "code",
   "execution_count": null,
   "metadata": {},
   "outputs": [],
   "source": [
    "public class Minion\n",
    "{\n",
    "    private String name;\n",
    "\n",
    "    // notice how the getter method starts with \"get\" (pretty creative, I know)\n",
    "    // these methods have to be names like this where you have get<whatever variable>\n",
    "    public String getName() {\n",
    "        // because \"name\" is a string, return type is String\n",
    "        return name;\n",
    "    }\n",
    "}"
   ]
  },
  {
   "cell_type": "markdown",
   "metadata": {},
   "source": [
    "### Your turn!\n",
    "\n",
    "- Make your own class with your own getter method"
   ]
  },
  {
   "cell_type": "code",
   "execution_count": 1,
   "metadata": {},
   "outputs": [
    {
     "name": "stdout",
     "output_type": "stream",
     "text": [
      "Car model is: Tesla Model S\n"
     ]
    }
   ],
   "source": [
    "public class Car {\n",
    "    // Private instance variable\n",
    "    private String model;\n",
    "\n",
    "    // Getter method for the model\n",
    "    public String getModel() {\n",
    "        return model;\n",
    "    }\n",
    "\n",
    "    // Constructor to set the model\n",
    "    public Car(String model) {\n",
    "        this.model = model;\n",
    "    }\n",
    "\n",
    "    public static void main(String[] args) {\n",
    "        // Create a Car object\n",
    "        Car myCar = new Car(\"Tesla Model S\");\n",
    "\n",
    "        // Use the getter method to retrieve the model\n",
    "        System.out.println(\"Car model is: \" + myCar.getModel());\n",
    "    }\n",
    "}\n",
    "\n",
    "Car.main(null)"
   ]
  },
  {
   "cell_type": "markdown",
   "metadata": {},
   "source": [
    "Mutators: wait a minute, a \"mutator\" is a type of mutator method??? Yeah, Java is kinda wacky like that. Try not to think about it much. Anyways... these methods let you *mutate* data (basically change it). They can be called \"set\" methods or \"setters.\""
   ]
  },
  {
   "cell_type": "code",
   "execution_count": null,
   "metadata": {},
   "outputs": [],
   "source": [
    "public class Minion\n",
    "{\n",
    "    private String name;\n",
    "\n",
    "    // same naming scheme as a getter but with set instead\n",
    "    public void setName(String n) {\n",
    "        name = n;\n",
    "    }\n",
    "}"
   ]
  },
  {
   "cell_type": "markdown",
   "metadata": {},
   "source": [
    "### Your turn!\n",
    "\n",
    "- Make your own class with your own **setter** method"
   ]
  },
  {
   "cell_type": "code",
   "execution_count": 2,
   "metadata": {},
   "outputs": [
    {
     "name": "stdout",
     "output_type": "stream",
     "text": [
      "Original Title: The Great Gatsby\n",
      "Updated Title: 1984\n"
     ]
    }
   ],
   "source": [
    "public class Book {\n",
    "    // Private instance variable\n",
    "    private String title;\n",
    "\n",
    "    // Getter method for title\n",
    "    public String getTitle() {\n",
    "        return title;\n",
    "    }\n",
    "\n",
    "    // Setter method for title\n",
    "    public void setTitle(String title) {\n",
    "        this.title = title;\n",
    "    }\n",
    "\n",
    "    // Constructor to set the title\n",
    "    public Book(String title) {\n",
    "        this.title = title;\n",
    "    }\n",
    "\n",
    "    public static void main(String[] args) {\n",
    "        // Create a Book object\n",
    "        Book myBook = new Book(\"The Great Gatsby\");\n",
    "\n",
    "        // Print the original title\n",
    "        System.out.println(\"Original Title: \" + myBook.getTitle());\n",
    "\n",
    "        // Use the setter method to change the title\n",
    "        myBook.setTitle(\"1984\");\n",
    "\n",
    "        // Print the updated title\n",
    "        System.out.println(\"Updated Title: \" + myBook.getTitle());\n",
    "    }\n",
    "}\n",
    "\n",
    "Book.main(null);"
   ]
  },
  {
   "cell_type": "markdown",
   "metadata": {},
   "source": [
    "## EXAMPLE TIME WOOOOOOO!!!!!!! 🤓🤓🤓"
   ]
  },
  {
   "cell_type": "code",
   "execution_count": 22,
   "metadata": {},
   "outputs": [
    {
     "name": "stdout",
     "output_type": "stream",
     "text": [
      "Kevin\n",
      "Bob\n"
     ]
    }
   ],
   "source": [
    "public class Minion {\n",
    "    // the minion's name\n",
    "    private String name;\n",
    "\n",
    "    // Constructor to set the name\n",
    "    public Minion(String n) {\n",
    "        name = n;\n",
    "    }\n",
    "\n",
    "    // getter\n",
    "    public String getName() {\n",
    "        return name;\n",
    "    }\n",
    "\n",
    "    // setter\n",
    "    public void setName(String n) {\n",
    "        name = n;\n",
    "    }\n",
    "}\n",
    "\n",
    "// Create a Minion object and interact with it\n",
    "Minion myMinion = new Minion(\"Kevin\");\n",
    "\n",
    "System.out.println(myMinion.getName()); // get the name\n",
    "\n",
    "myMinion.setName(\"Bob\");\n",
    "System.out.println(myMinion.getName()); // wow look, the name changed!!\n"
   ]
  },
  {
   "cell_type": "markdown",
   "metadata": {},
   "source": [
    "### Your turn!\n",
    "\n",
    "Make your own class with:\n",
    "- A constructor\n",
    "- A getter\n",
    "- A setter\n",
    "\n",
    "Create an object and interact with it! Make sure you use both your setter and getter methods at least once."
   ]
  },
  {
   "cell_type": "code",
   "execution_count": 3,
   "metadata": {},
   "outputs": [
    {
     "name": "stdout",
     "output_type": "stream",
     "text": [
      "Student Name: Alice\n",
      "Student Age: 20\n",
      "Updated Age: 21\n",
      "Please enter a valid age.\n"
     ]
    }
   ],
   "source": [
    "public class Student {\n",
    "    // Private instance variables\n",
    "    private String name;\n",
    "    private int age;\n",
    "\n",
    "    // Constructor\n",
    "    public Student(String name, int age) {\n",
    "        this.name = name;\n",
    "        this.age = age;\n",
    "    }\n",
    "\n",
    "    // Getter method for name\n",
    "    public String getName() {\n",
    "        return name;\n",
    "    }\n",
    "\n",
    "    // Setter method for age\n",
    "    public void setAge(int age) {\n",
    "        if (age > 0) { // Ensuring a valid age is set\n",
    "            this.age = age;\n",
    "        } else {\n",
    "            System.out.println(\"Please enter a valid age.\");\n",
    "        }\n",
    "    }\n",
    "\n",
    "    // Getter method for age\n",
    "    public int getAge() {\n",
    "        return age;\n",
    "    }\n",
    "\n",
    "    public static void main(String[] args) {\n",
    "        // Create a Student object\n",
    "        Student student = new Student(\"Alice\", 20);\n",
    "\n",
    "        // Use the getter method to retrieve and print the name and age\n",
    "        System.out.println(\"Student Name: \" + student.getName());\n",
    "        System.out.println(\"Student Age: \" + student.getAge());\n",
    "\n",
    "        // Use the setter method to change the age\n",
    "        student.setAge(21);\n",
    "        System.out.println(\"Updated Age: \" + student.getAge());\n",
    "\n",
    "        // Attempt to set an invalid age\n",
    "        student.setAge(-5); // This will print a message about invalid age\n",
    "    }\n",
    "}\n",
    "\n",
    "Student.main(null);"
   ]
  },
  {
   "cell_type": "markdown",
   "metadata": {},
   "source": [
    "## When making mutator methods...\n",
    "- A setter method has a `void` return type since it doesn't return anything\n",
    "  - Naming convention: `set<variable name>` like `setName`\n",
    "- A getter method's return type is of what it is returning\n",
    "  - Naming convention: `get<variable name>` like `getName`\n",
    "- Mutator methods in general change variable in a safe way\n",
    "  - They have to be public if you want to access these variable outside of the class (which is the purpose they serve)\n",
    "- Parameter type matches the variable you're modifying\n",
    "  - `public void setName(String n)`\n",
    "  - You are modifying a `String` called `n`\n",
    "  - Parameter type matches!"
   ]
  }
 ],
 "metadata": {
  "kernelspec": {
   "display_name": "Java",
   "language": "java",
   "name": "java"
  },
  "language_info": {
   "codemirror_mode": "java",
   "file_extension": ".jshell",
   "mimetype": "text/x-java-source",
   "name": "java",
   "pygments_lexer": "java",
   "version": "17.0.12+7-Ubuntu-1ubuntu224.04"
  }
 },
 "nbformat": 4,
 "nbformat_minor": 2
}
