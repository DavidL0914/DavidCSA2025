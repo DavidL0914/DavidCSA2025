{
 "cells": [
  {
   "cell_type": "markdown",
   "metadata": {},
   "source": [
    "---\n",
    "layout: post\n",
    "toc: true\n",
    "title: Unit 7 ArrayList P3 \n",
    "description: A Unit of documents that overview Array Lists in Java\n",
    "authors: Drishya, Arnav, Tanuj, Jason\n",
    "categories: [AP CSA]\n",
    "# courses: {'csa': {'week': 6}}\n",
    "type: ccc\n",
    "permalink: /csa/unit7-p3/unit7-6\n",
    "menu: nav/CSA_Units/csa_unit7_p3.html\n",
    "---"
   ]
  },
  {
   "cell_type": "markdown",
   "metadata": {
    "vscode": {
     "languageId": "plaintext"
    }
   },
   "source": [
    "## **ArrayList Coding Activity**\n",
    "\n",
    "### **Objective:**\n",
    "Students will create, manipulate, and sort an `ArrayList` of integers.\n",
    "\n",
    "### **Activity Outline:**\n",
    "\n",
    "1. **Create an ArrayList:**\n",
    "   - **Task:** Create an `ArrayList` of integers and add 5 elements of your choice.\n",
    "   - **Hint:** Use the `ArrayList` class and the `.add()` method to add elements.\n",
    "\n",
    "2. **Modify an Element:**\n",
    "   - **Task:** Change the second element (index 1) of the `ArrayList` to a new value (e.g., 100).\n",
    "   - **Hint:** The `.set()` method allows you to update an element at a specific index.\n",
    "\n",
    "3. **Remove an Element:**\n",
    "   - **Task:** Remove the third element (index 2) from the `ArrayList`.\n",
    "   - **Hint:** Use the `.remove()` method to delete an element by its index.\n",
    "\n",
    "4. **Search for an Element:**\n",
    "   - **Task:** Check if a specific number (e.g., 30) is in the `ArrayList` and print a message based on whether it is found or not.\n",
    "   - **Hint:** The `.contains()` method can be used to check for the presence of an element.\n",
    "\n",
    "5. **Loop Through the ArrayList:**\n",
    "   - **Task:** Use a `for` loop to print each element of the `ArrayList`.\n",
    "   - **Hint:** You can use a traditional `for` loop or an enhanced `for` loop (`for-each`) to iterate through the elements.\n",
    "\n",
    "6. **Sort the ArrayList:**\n",
    "   - **Task:** Sort the `ArrayList` in ascending order.\n",
    "   - **Hint:** Use `Collections.sort()` to sort the `ArrayList`.\n",
    "\n",
    "7. **Print the Sorted ArrayList:**\n",
    "   - **Task:** Print the sorted `ArrayList` to see the updated order of the elements.\n",
    "   - **Hint:** Use `System.out.println()` to print the sorted list.\n"
   ]
  },
  {
   "cell_type": "code",
   "execution_count": 2,
   "metadata": {
    "vscode": {
     "languageId": "java"
    }
   },
   "outputs": [
    {
     "name": "stdout",
     "output_type": "stream",
     "text": [
      "Original ArrayList: [10, 20, 30, 40, 50]\n",
      "After modifying second element: [10, 100, 30, 40, 50]\n",
      "After removing third element: [10, 100, 40, 50]\n",
      "The number 30 is not in the ArrayList.\n",
      "Elements in the ArrayList: 10 100 40 50 \n",
      "Sorted ArrayList: [10, 40, 50, 100]\n",
      "Final ArrayList: [10, 40, 50, 100]\n"
     ]
    }
   ],
   "source": [
    "import java.util.ArrayList;\n",
    "import java.util.Collections;\n",
    "\n",
    "public class ArrayListHW {\n",
    "\n",
    "    public static void main(String[] args) {\n",
    "        // 1. Create an ArrayList and add 5 elements\n",
    "        ArrayList<Integer> numbers = new ArrayList<>();\n",
    "        numbers.add(10);\n",
    "        numbers.add(20);\n",
    "        numbers.add(30);\n",
    "        numbers.add(40);\n",
    "        numbers.add(50);\n",
    "        System.out.println(\"Original ArrayList: \" + numbers);\n",
    "\n",
    "        // 2. Modify the second element (index 1) to a new value\n",
    "        numbers.set(1, 100);\n",
    "        System.out.println(\"After modifying second element: \" + numbers);\n",
    "\n",
    "        // 3. Remove the third element (index 2)\n",
    "        numbers.remove(2);\n",
    "        System.out.println(\"After removing third element: \" + numbers);\n",
    "\n",
    "        // 4. Check if the number 30 is in the ArrayList\n",
    "        if (numbers.contains(30)) {\n",
    "            System.out.println(\"The number 30 is in the ArrayList.\");\n",
    "        } else {\n",
    "            System.out.println(\"The number 30 is not in the ArrayList.\");\n",
    "        }\n",
    "\n",
    "        // 5. Loop through the ArrayList and print each element\n",
    "        System.out.print(\"Elements in the ArrayList: \");\n",
    "        for (int number : numbers) {\n",
    "            System.out.print(number + \" \");\n",
    "        }\n",
    "        System.out.println();\n",
    "\n",
    "        // 6. Sort the ArrayList in ascending order\n",
    "        Collections.sort(numbers);\n",
    "        System.out.println(\"Sorted ArrayList: \" + numbers);\n",
    "\n",
    "        // 7. Print the sorted ArrayList\n",
    "        System.out.println(\"Final ArrayList: \" + numbers);\n",
    "    }\n",
    "}\n",
    "\n",
    "ArrayListHW.main(null);"
   ]
  }
 ],
 "metadata": {
  "kernelspec": {
   "display_name": "Java",
   "language": "java",
   "name": "java"
  },
  "language_info": {
   "codemirror_mode": "java",
   "file_extension": ".jshell",
   "mimetype": "text/x-java-source",
   "name": "Java",
   "pygments_lexer": "java",
   "version": "17.0.12+7-Ubuntu-1ubuntu224.04"
  }
 },
 "nbformat": 4,
 "nbformat_minor": 2
}
