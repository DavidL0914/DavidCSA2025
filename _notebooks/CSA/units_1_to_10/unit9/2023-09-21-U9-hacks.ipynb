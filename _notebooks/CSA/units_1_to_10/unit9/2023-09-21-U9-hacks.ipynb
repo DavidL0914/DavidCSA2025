{
 "cells": [
  {
   "cell_type": "markdown",
   "metadata": {},
   "source": [
    "---\n",
    "layout: post\n",
    "title:  Hacks\n",
    "description: Hacks Menu\n",
    "courses: { csse: {week: 1}, csp: {week: 1}, csa: {week: 1} }\n",
    "categories: [DevOps]\n",
    "permalink: /inheritance-hacks\n",
    "menu: nav/CSA_Units/csa_unit9.html\n",
    "comments: true\n",
    "sticky_rank: 1\n",
    "---"
   ]
  },
  {
   "cell_type": "markdown",
   "metadata": {},
   "source": [
    "#### Note that all lesson hacks are completed on their respective page"
   ]
  },
  {
   "cell_type": "markdown",
   "metadata": {},
   "source": [
    "## Homework Hack\n",
    "For your homework, create your own class hierarchy for shapes. You should have a base class called `Shape` with subclasses `Triangle`, `Rectangle`, and `Hexagon`. Each subclass should implement a method called `draw()`, returning a unique string for each shape type.\n",
    "\n",
    "    - `Triangle`: \"Drawing a triangle.\"\n",
    "\n",
    "    - `Rectangle`: \"Drawing a rectangle.\"\n",
    "\n",
    "    - `Hexagon`: \"Drawing a hexagon.\"\n",
    "\n",
    "Make sure to demonstrate polymorphism by creating an array of `Shape` types and iterating through it to call the `draw()` method. This will reinforce your understanding of class hierarchies and method overriding."
   ]
  },
  {
   "cell_type": "code",
   "execution_count": 12,
   "metadata": {},
   "outputs": [
    {
     "name": "stdout",
     "output_type": "stream",
     "text": [
      "Drawing a triangle with three sides.\n",
      "Drawing a rectangle with four right angles.\n",
      "Drawing a hexagon with six equal sides.\n"
     ]
    }
   ],
   "source": [
    "// Base class\n",
    "class Shape {\n",
    "    public String draw() {\n",
    "        return \"Drawing a shape\";\n",
    "    }\n",
    "}\n",
    "\n",
    "// Subclass Triangle\n",
    "class Triangle extends Shape {\n",
    "    @Override\n",
    "    public String draw() {\n",
    "        return \"Drawing a triangle with three sides.\";\n",
    "    }\n",
    "}\n",
    "\n",
    "// Subclass Rectangle\n",
    "class Rectangle extends Shape {\n",
    "    @Override\n",
    "    public String draw() {\n",
    "        return \"Drawing a rectangle with four right angles.\";\n",
    "    }\n",
    "}\n",
    "\n",
    "// Subclass Hexagon\n",
    "class Hexagon extends Shape {\n",
    "    @Override\n",
    "    public String draw() {\n",
    "        return \"Drawing a hexagon with six equal sides.\";\n",
    "    }\n",
    "}\n",
    "\n",
    "// Create an array of Shape types\n",
    "Shape[] shapes = new Shape[3];\n",
    "shapes[0] = new Triangle();\n",
    "shapes[1] = new Rectangle();\n",
    "shapes[2] = new Hexagon();\n",
    "\n",
    "// Iterate through the array and call the draw() method\n",
    "for (Shape shape : shapes) {\n",
    "    System.out.println(shape.draw());\n",
    "}\n"
   ]
  },
  {
   "cell_type": "markdown",
   "metadata": {},
   "source": [
    "### FRQ Prompt\n",
    "\n",
    "**Consider a program that manages a collection of books, specifically focusing on textbooks. You are required to implement a class named `Textbook` that extends an existing class called `Book`. The `Textbook` class should include the following features:**\n",
    "\n",
    "1. A private integer field named `edition` that represents the edition number of the textbook.\n",
    "2. A constructor that takes three parameters: a string for the title, a double for the price, and an integer for the edition. This constructor should invoke the superclass constructor to initialize the title and price.\n",
    "3. A method `getEdition()` that returns the edition of the textbook.\n",
    "4. A method `canSubstituteFor(Textbook other)` that determines if the current textbook can be substituted for another textbook. This method should return true if both textbooks have the same title and the current textbook's edition is equal to or greater than the other textbook's edition.\n",
    "5. An overridden method `getBookInfo()` that returns a string representation of the textbook information, including the title, price, and edition.\n",
    "6. Optional: Include error handling in the constructor to ensure that the edition is a positive integer, and override the `toString()` method for convenient output of the textbook information.\n",
    "\n",
    "Write the complete implementation of the `Textbook` class, including all specified methods and any additional features you believe would be beneficial.\n"
   ]
  },
  {
   "cell_type": "code",
   "execution_count": 10,
   "metadata": {},
   "outputs": [
    {
     "name": "stdout",
     "output_type": "stream",
     "text": [
      "Title: Data Structures in C++, Price: $75.5, Edition: 5\n",
      "Title: Data Structures in C++, Price: $75.5, Edition: 3\n",
      "Can textbook1 substitute for textbook2? true\n",
      "Can textbook2 substitute for textbook1? false\n",
      "Textbook{title='Data Structures in C++', price=$75.5, edition=5}\n",
      "Textbook{title='Data Structures in C++', price=$75.5, edition=3}\n"
     ]
    }
   ],
   "source": [
    "class Book {\n",
    "    private String title;\n",
    "    private double price;\n",
    "\n",
    "    public Book(String title, double price) {\n",
    "        this.title = title;\n",
    "        this.price = price;\n",
    "    }\n",
    "\n",
    "    public String getTitle() {\n",
    "        return title;\n",
    "    }\n",
    "\n",
    "    public double getPrice() {\n",
    "        return price;\n",
    "    }\n",
    "\n",
    "    public String getBookInfo() {\n",
    "        return \"Title: \" + title + \", Price: $\" + price;\n",
    "    }\n",
    "}\n",
    "\n",
    "// Textbook class extending Book\n",
    "class Textbook extends Book {\n",
    "    private int edition;\n",
    "\n",
    "    public Textbook(String title, double price, int edition) {\n",
    "        super(title, price);\n",
    "        if (edition <= 0) {\n",
    "            throw new IllegalArgumentException(\"Edition must be a positive integer.\");\n",
    "        }\n",
    "        this.edition = edition;\n",
    "    }\n",
    "\n",
    "    public int getEdition() {\n",
    "        return edition;\n",
    "    }\n",
    "\n",
    "    public boolean canSubstituteFor(Textbook other) {\n",
    "        return this.getTitle().equals(other.getTitle()) && this.edition >= other.getEdition();\n",
    "    }\n",
    "\n",
    "    @Override\n",
    "    public String getBookInfo() {\n",
    "        return super.getBookInfo() + \", Edition: \" + edition;\n",
    "    }\n",
    "\n",
    "    @Override\n",
    "    public String toString() {\n",
    "        return \"Textbook{\" +\n",
    "                \"title='\" + getTitle() + '\\'' +\n",
    "                \", price=$\" + getPrice() +\n",
    "                \", edition=\" + edition +\n",
    "                '}';\n",
    "    }\n",
    "}\n",
    "\n",
    "Textbook textbook1 = new Textbook(\"Data Structures in C++\", 75.50, 5);\n",
    "Textbook textbook2 = new Textbook(\"Data Structures in C++\", 75.50, 3);\n",
    "\n",
    "System.out.println(textbook1.getBookInfo());\n",
    "System.out.println(textbook2.getBookInfo());\n",
    "\n",
    "System.out.println(\"Can textbook1 substitute for textbook2? \" + textbook1.canSubstituteFor(textbook2));\n",
    "System.out.println(\"Can textbook2 substitute for textbook1? \" + textbook2.canSubstituteFor(textbook1));\n",
    "\n",
    "System.out.println(textbook1);\n",
    "System.out.println(textbook2);\n"
   ]
  },
  {
   "cell_type": "markdown",
   "metadata": {},
   "source": [
    "## Multiple Choice\n",
    "### 1. What is wrong with this block of code?"
   ]
  },
  {
   "cell_type": "code",
   "execution_count": null,
   "metadata": {},
   "outputs": [],
   "source": [
    "class Shape{\n",
    "    private double length = 0;\n",
    "    private double width = 0;\n",
    "    \n",
    "    public Shape(double length, double width){\n",
    "        this.length = length;\n",
    "        this.width = width;\n",
    "    }\n",
    "\n",
    "    public double getArea(){\n",
    "        return this.length * this.width;\n",
    "    }\n",
    "\n",
    "    private String toString(){\n",
    "        return \"Shape length:\"+ (new Double(this.length)).toString() + \" width:\" + (new Double(this.width)).toString();\n",
    "    }\n",
    "}\n",
    "\n",
    "Shape myShape = new Shape(2,3);\n",
    "\n",
    "System.out.println(myShape.getArea());"
   ]
  },
  {
   "cell_type": "markdown",
   "metadata": {},
   "source": [
    "a) You can't use the **this** keyword in the constructor\n",
    "\n",
    "b) When passing a **double** through an argument it must be in the form of 0.0\n",
    "\n",
    "c) The **toString()** method must be public\n",
    "\n",
    "d) The **getArea()** method doesn't return a double\n",
    "\n",
    "**Answer: C - toString() needs to be public since it's inherited from Object. Making it private blocks proper usage when printing the object.**\n",
    "\n",
    "### 2. Which method cannot be exectuted in the following example of Polymorphism"
   ]
  },
  {
   "cell_type": "code",
   "execution_count": 11,
   "metadata": {},
   "outputs": [],
   "source": [
    "class Water{\n",
    "    public String toString(){\n",
    "        return \"Water\";\n",
    "    }\n",
    "\n",
    "    private boolean isSalty(){\n",
    "        return false;\n",
    "    }\n",
    "\n",
    "    public String typeOfWater(){\n",
    "        return \"Static\";\n",
    "    }\n",
    "\n",
    "}\n",
    "\n",
    "class Lake extends Water{\n",
    "    public String toString(){\n",
    "        return \"Lake\";\n",
    "    }\n",
    "\n",
    "    public boolean isSalty(){\n",
    "        return true;\n",
    "    }\n",
    "}\n",
    "\n",
    "Water myLakeWater = new Lake();"
   ]
  },
  {
   "cell_type": "markdown",
   "metadata": {},
   "source": [
    "a) **typeOfWater()**\n",
    "\n",
    "b) **isSalty()**\n",
    "\n",
    "c) **toString()**\n",
    "\n",
    "d) **getClass()**\n",
    "\n",
    "**Answer: B - isSalty() is private in Water, so it cannot be accessed or overridden via polymorphism.**"
   ]
  }
 ],
 "metadata": {
  "kernelspec": {
   "display_name": "Java",
   "language": "java",
   "name": "java"
  },
  "language_info": {
   "codemirror_mode": "java",
   "file_extension": ".jshell",
   "mimetype": "text/x-java-source",
   "name": "java",
   "pygments_lexer": "java",
   "version": "17.0.12+7-Ubuntu-1ubuntu224.04"
  }
 },
 "nbformat": 4,
 "nbformat_minor": 2
}
