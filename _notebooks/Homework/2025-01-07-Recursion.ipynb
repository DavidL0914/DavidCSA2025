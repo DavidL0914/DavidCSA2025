{
 "cells": [
  {
   "cell_type": "markdown",
   "metadata": {},
   "source": [
    "---\n",
    "layout: post\n",
    "title: Recursion Homework\n",
    "type: issues \n",
    "comments: true\n",
    "courses: { csa: {week: 17} }\n",
    "type: ccc\n",
    "---"
   ]
  },
  {
   "cell_type": "markdown",
   "metadata": {},
   "source": [
    "## Recursive Patterns - Question (D is optional if you can do good job)\n",
    "**Part A: Count Ways to Climb Stairs**\n",
    " Write a recursive method `countWays` that calculates the total number of ways the person can climb a staircase with `n` steps.\n",
    "\n",
    " **Parameters:**\n",
    " * `n`: Total number of steps in the staircase.\n",
    " \n",
    " **Rules:**\n",
    " * Base case: If `n == 0`, return `1` (one way to stay where you are).\n",
    " * Base case: If `n < 0`, return `0` (no valid ways).\n",
    " * Recursive case: Combine the results of taking 1 step from `n-1` and 2 steps from `n-2`.\n",
    " \n",
    " **Example Call:**\n",
    " \n",
    " ```\n",
    " countWays(4) // returns 5\n",
    " ```"
   ]
  },
  {
   "cell_type": "markdown",
   "metadata": {},
   "source": [
    "**Answer:**"
   ]
  },
  {
   "cell_type": "code",
   "execution_count": 4,
   "metadata": {
    "vscode": {
     "languageId": "java"
    }
   },
   "outputs": [
    {
     "data": {
      "text/plain": [
       "5"
      ]
     },
     "execution_count": 4,
     "metadata": {},
     "output_type": "execute_result"
    }
   ],
   "source": [
    "public int countWays(int n) {\n",
    "    // Base case - if n == 0, you stay at the ground (return 1)\n",
    "    if (n == 0) {\n",
    "        return 1;\n",
    "    }\n",
    "    // Base case - if n < 0, there are no valid ways (return 0)\n",
    "    if (n < 0) {\n",
    "        return 0;\n",
    "    }\n",
    "    // Recursive case - ways from n-1 steps + ways from n-2 steps\n",
    "    return countWays(n - 1) + countWays(n - 2);\n",
    "}\n",
    "\n",
    "countWays(4) // returns 5"
   ]
  },
  {
   "cell_type": "markdown",
   "metadata": {},
   "source": [
    "**Part B: Trace Recursive Calls**\n",
    " Trace the recursive calls for the method `countWays` with input `3`. Show how the recursion reaches the base case and unwinds.\n",
    "\n",
    " **Answer:**\n",
    "* Start with countWays(3) - n > 0 so it calls countWays(2) and countWays(1).\n",
    "* countWays(2) - n > 0 so it calls countWays(1) and countWays(0).\n",
    "* countWays(1) (called by countWays(2)) - n > 0 so it calls countWays(0) and countWays(-1).\n",
    "* countWays(0) (called by countWays(1)) - n == 0 so return 1.\n",
    "* countWays(-1) (called by countWays(1)) - n < 0 so return 0.\n",
    "* countWays(1) (called by countWays(2)) - combine results: countWays(1) = countWays(0) + countWays(-1) = 1 + 0 = 1.\n",
    "* countWays(0) (called by countWays(2)) - n == 0 so return 1.\n",
    "* countWays(2) - combine results: countWays(2) = countWays(1) + countWays(0) = 1 + 1 = 2.\n",
    "* countWays(1) (called by countWays(3)) - n > 0 so it calls countWays(0) and countWays(-1).\n",
    "* countWays(0) (called by countWays(1)) - n == 0 so return 1.\n",
    "* countWays(-1) (called by countWays(1)) - n < 0 so return 0.\n",
    "* countWays(1) (called by countWays(3)) - combine results: countWays(1) = countWays(0) + countWays(-1) = 1 + 0 = 1.\n",
    "* countWays(3) -  ombine results: countWays(3) = countWays(2) + countWays(1) = 2 + 1 = 3."
   ]
  },
  {
   "cell_type": "markdown",
   "metadata": {},
   "source": [
    " **Part C: Modify for Variable Steps**\n",
    " Write a method `countWaysVariableSteps` that calculates the total number of ways the person can climb a staircase with `n` steps using the allowed step sizes.\n",
    " \n",
    " ```\n",
    " public int countWaysVariableSteps(int n, int[] steps)\n",
    " ```\n",
    " \n",
    " **Parameters:**\n",
    " * `n`: Total number of steps in the staircase.\n",
    " * `steps`: Array of integers representing the allowed step sizes.\n",
    " \n",
    " **Example Input:**\n",
    " ```\n",
    " int[] steps = {1, 3, 5};\n",
    " countWaysVariableSteps(5, steps) // returns 5\n",
    " ```"
   ]
  },
  {
   "cell_type": "markdown",
   "metadata": {},
   "source": [
    "**Answer:**"
   ]
  },
  {
   "cell_type": "code",
   "execution_count": 10,
   "metadata": {
    "vscode": {
     "languageId": "java"
    }
   },
   "outputs": [
    {
     "data": {
      "text/plain": [
       "5"
      ]
     },
     "execution_count": 10,
     "metadata": {},
     "output_type": "execute_result"
    }
   ],
   "source": [
    "public int countWaysVariableSteps(int n, int[] steps) {\n",
    "    // Base case - if n == 0, you stay at the ground (return 1)\n",
    "    if (n == 0) {\n",
    "        return 1;\n",
    "    }\n",
    "    // Base case - if n < 0, there are no valid ways (return 0)\n",
    "    if (n < 0) {\n",
    "        return 0;\n",
    "    }\n",
    "    // Initialize total count of ways\n",
    "    int totalWays = 0;\n",
    "\n",
    "    // Loop through each allowed step size\n",
    "    for (int step : steps) {\n",
    "        totalWays += countWaysVariableSteps(n - step, steps);\n",
    "    }\n",
    "    \n",
    "    // Return the total number of ways\n",
    "    return totalWays;\n",
    "}\n",
    "\n",
    "int[] steps = {1, 3, 5};\n",
    "countWaysVariableSteps(5, steps) // returns 5"
   ]
  }
 ],
 "metadata": {
  "kernelspec": {
   "display_name": "Java",
   "language": "java",
   "name": "java"
  },
  "language_info": {
   "codemirror_mode": "java",
   "file_extension": ".jshell",
   "mimetype": "text/x-java-source",
   "name": "Java",
   "pygments_lexer": "java",
   "version": "17.0.13+11-Ubuntu-2ubuntu124.04"
  }
 },
 "nbformat": 4,
 "nbformat_minor": 2
}
