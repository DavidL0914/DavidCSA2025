{
 "cells": [
  {
   "cell_type": "markdown",
   "metadata": {},
   "source": [
    "---\n",
    "layout: post\n",
    "title: Student Panel Reflection\n",
    "type: issues \n",
    "comments: true\n",
    "courses: { csa: {week: 17} }\n",
    "type: ccc\n",
    "---"
   ]
  },
  {
   "cell_type": "markdown",
   "metadata": {},
   "source": [
    "## Coding Panel Notes\n",
    "\n",
    "### How I Will Apply What They Said\n",
    "\n",
    "#### CSA\n",
    "- **Focus on explaining my code**  \n",
    "  - Practice articulating how my code works during peer reviews/live reviews and when asking for help. This will ensure I genuinely understand the process and can communicate it effectively.\n",
    "\n",
    "- **Use flowcharts before coding**  \n",
    "  - Incorporate tools like Draw.io to create flowcharts for assignments. This will help me structure my logic before writing any lines of code and keep me more organized.\n",
    "\n",
    "- **Add detailed comments**  \n",
    "  - Develop a habit of commenting on every line of my code to make it easier to follow and understand during reviews.  \n",
    "\n",
    "- **Focus on organization before coding**\n",
    "  - I kind of have a habit of just jumping into projects without clear planning. The students that presented showed me the importance of having an organized and structured group (by utilizing SCRUM process), so I will try to implement this better going forward.\n",
    "\n",
    "#### Attitude Towards Life and Working with a Team\n",
    "- **Communicate with clarity**  \n",
    "  - Be concise and well-prepared when presenting ideas or solutions, whether for a coding project or during team discussions. This will help me stand out and foster better collaboration.  \n",
    "\n",
    "- **Adopt Agile principles**  \n",
    "  - Encourage the team to start every group project with flowcharts and organized planning to improve efficiency and alignment.  \n",
    "\n",
    "- **Pursue diverse experiences**  \n",
    "  - Stay open to opportunities like being a TA or taking internships outside my major to broaden my skills and perspectives.  \n",
    "\n",
    "  ---\n",
    "\n",
    "### Key Takeaways/Memorable Things They Said and Why\n",
    "- **San Diego's STEM focus**  \n",
    "  - SD is a big tech city, and everything revolves around STEM in some way. It's essential to have a base knowledge of STEM concepts.  \n",
    "  - Why: This highlights the importance of foundational knowledge in tech and its broad applications in both career and daily life.\n",
    "\n",
    "- **Explaining your code matters more than functionality**  \n",
    "  - You are graded on whether you can explain how your code works, not just whether it works.  \n",
    "  - Why: Understanding and articulating your process shows depth of knowledge and is key for growth as a coder.\n",
    "\n",
    "- **Clear communication impresses people**  \n",
    "  - Be concise, know exactly what points to cover, and stay organized when presenting.  \n",
    "  - Why: Strong communication skills are essential for standing out in presentations, interviews, and team environments.  \n",
    "\n",
    "- **Agile methodology is valuable**  \n",
    "  - Agile methods help streamline communication and organization. Flowcharts are an integral part of this, as they allow you to structure ideas clearly before starting any project.  \n",
    "  - Why: This methodology promotes collaboration and helps avoid confusion during complex tasks.  \n",
    "\n",
    "- **Commenting every line is important**  \n",
    "  - Commenting provides clarity and organization for yourself and others reviewing your code.  \n",
    "  - Why: Well-documented code is easier to maintain, debug, and collaborate on.  "
   ]
  },
  {
   "cell_type": "markdown",
   "metadata": {},
   "source": [
    "![Selfie](https://media.discordapp.net/attachments/728322409387786250/1328242328594284666/image0.jpg?ex=6785fd90&is=6784ac10&hm=e551088c2e4ac3c876daebf43d0ed9013183a9dd406bb0cae796de390ede03f8&=&format=webp&width=753&height=565)"
   ]
  }
 ],
 "metadata": {
  "language_info": {
   "name": "python"
  }
 },
 "nbformat": 4,
 "nbformat_minor": 2
}
