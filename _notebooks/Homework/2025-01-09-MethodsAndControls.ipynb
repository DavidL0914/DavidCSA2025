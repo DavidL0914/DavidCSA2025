{
 "cells": [
  {
   "cell_type": "markdown",
   "metadata": {},
   "source": [
    "---\n",
    "layout: post\n",
    "title: Methods and Controls Homework\n",
    "type: issues \n",
    "comments: true\n",
    "courses: { csa: {week: 17} }\n",
    "type: ccc\n",
    "---"
   ]
  },
  {
   "cell_type": "markdown",
   "metadata": {},
   "source": [
    "**Part A**"
   ]
  },
  {
   "cell_type": "code",
   "execution_count": null,
   "metadata": {
    "vscode": {
     "languageId": "java"
    }
   },
   "outputs": [],
   "source": [
    "public int getScore() {\n",
    "    int score = 0;\n",
    "\n",
    "    // Check if Level 1 goal is reached\n",
    "    if (levelOne.goalReached()) {\n",
    "        score += levelOne.getPoints();\n",
    "\n",
    "        // Check if Level 2 goal is reached\n",
    "        if (levelTwo.goalReached()) {\n",
    "            score += levelTwo.getPoints();\n",
    "\n",
    "            // Check if Level 3 goal is reached\n",
    "            if (levelThree.goalReached()) {\n",
    "                score += levelThree.getPoints();\n",
    "            }\n",
    "        }\n",
    "    }\n",
    "\n",
    "    // If the game is bonus, triple the score\n",
    "    if (isBonus()) {\n",
    "        score *= 3;\n",
    "    }\n",
    "\n",
    "    return score;\n",
    "}"
   ]
  },
  {
   "cell_type": "markdown",
   "metadata": {},
   "source": [
    "**Part B**"
   ]
  },
  {
   "cell_type": "code",
   "execution_count": null,
   "metadata": {
    "vscode": {
     "languageId": "java"
    }
   },
   "outputs": [],
   "source": [
    "public int playManyTimes(int num) {\n",
    "    int highestScore = 0; // Initialize the highest score to 0\n",
    "\n",
    "    for (int i = 0; i < num; i++) {\n",
    "        play();\n",
    "        int currentScore = getScore(); // Get the score for the current play\n",
    "        if (currentScore > highestScore) {\n",
    "            highestScore = currentScore; // Update highest score if current score is greater\n",
    "        }\n",
    "    }\n",
    "\n",
    "    return highestScore; // Return the highest score after all games are played\n",
    "}\n"
   ]
  },
  {
   "cell_type": "markdown",
   "metadata": {},
   "source": [
    "**Full Code**"
   ]
  },
  {
   "cell_type": "code",
   "execution_count": null,
   "metadata": {
    "vscode": {
     "languageId": "java"
    }
   },
   "outputs": [],
   "source": [
    "public class Game \n",
    "{ \n",
    "    private Level levelOne; \n",
    "    private Level levelTwo; \n",
    "    private Level levelThree; \n",
    "    \n",
    "    /** Postcondition: All instance variables have been initialized. */ \n",
    "    public Game() \n",
    "    { /* implementation not shown */ } \n",
    "\n",
    "    /** Returns true if this game is a bonus game and returns false otherwise */ \n",
    "    public boolean isBonus() \n",
    "    { /* implementation not shown */ } \n",
    "\n",
    "    /** Simulates the play of this Game (consisting of three levels) and updates all relevant \n",
    "     * game data \n",
    "     */ \n",
    "    public void play() \n",
    "    { /* implementation not shown */ } \n",
    "\n",
    "    /** Returns the score earned in the most recently played game, as described in part (a) */ \n",
    "    public int getScore() {\n",
    "        int score = 0;\n",
    "    \n",
    "        // Check if Level 1 goal is reached\n",
    "        if (levelOne.goalReached()) {\n",
    "            score += levelOne.getPoints();\n",
    "    \n",
    "            // Check if Level 2 goal is reached\n",
    "            if (levelTwo.goalReached()) {\n",
    "                score += levelTwo.getPoints();\n",
    "    \n",
    "                // Check if Level 3 goal is reached\n",
    "                if (levelThree.goalReached()) {\n",
    "                    score += levelThree.getPoints();\n",
    "                }\n",
    "            }\n",
    "        }\n",
    "    \n",
    "        // If the game is bonus, triple the score\n",
    "        if (isBonus()) {\n",
    "            score *= 3;\n",
    "        }\n",
    "    \n",
    "        return score;\n",
    "    }\n",
    "\n",
    "    /** Simulates the play of num games and returns the highest score earned, as \n",
    "     * described in part (b) \n",
    "     * Precondition: num > 0 \n",
    "     */ \n",
    "    public int playManyTimes(int num) {\n",
    "        int highestScore = 0; // Initialize the highest score to 0\n",
    "    \n",
    "        for (int i = 0; i < num; i++) {\n",
    "            play();\n",
    "            int currentScore = getScore(); // Get the score for the current play\n",
    "            if (currentScore > highestScore) {\n",
    "                highestScore = currentScore; // Update highest score if current score is greater\n",
    "            }\n",
    "        }\n",
    "    \n",
    "        return highestScore; // Return the highest score after all games are played\n",
    "    }    \n",
    "    \n",
    "    // There may be instance variables, constructors, and methods that are not shown. \n",
    "}"
   ]
  }
 ],
 "metadata": {
  "kernelspec": {
   "display_name": "Java",
   "language": "java",
   "name": "java"
  },
  "language_info": {
   "codemirror_mode": "java",
   "file_extension": ".jshell",
   "mimetype": "text/x-java-source",
   "name": "Java",
   "pygments_lexer": "java",
   "version": "17.0.13+11-Ubuntu-2ubuntu124.04"
  }
 },
 "nbformat": 4,
 "nbformat_minor": 2
}
