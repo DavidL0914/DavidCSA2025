{
 "cells": [
  {
   "cell_type": "markdown",
   "metadata": {},
   "source": [
    "---\n",
    "layout: post\n",
    "title: Classes Homework\n",
    "type: issues\n",
    "comments: true\n",
    "courses: { csa: {week: 18} }\n",
    "type: ccc\n",
    "---"
   ]
  },
  {
   "cell_type": "markdown",
   "metadata": {},
   "source": [
    "## First Attempt"
   ]
  },
  {
   "cell_type": "code",
   "execution_count": null,
   "metadata": {
    "vscode": {
     "languageId": "java"
    }
   },
   "outputs": [],
   "source": [
    "public class CombinedTable {\n",
    "    private SingleTable table1;\n",
    "    private SingleTable table2;\n",
    "\n",
    "    public CombinedTable(SingleTable t1, SingleTable t2) {\n",
    "        table1 = t1;\n",
    "        table2 = t2;\n",
    "    }\n",
    "\n",
    "    public boolean canSeat(int n) {\n",
    "        if (t1.getNumSeats() + t2.getNumSeats() >= n) {\n",
    "            return true;\n",
    "        } else {\n",
    "            return false;\n",
    "        }\n",
    "    }\n",
    "\n",
    "    public double getDesirability() {\n",
    "        if (t1.getHeight() == t2.getHeight()) {\n",
    "            return (t1.getViewQuality() + t2.getViewQuality()) / 2;\n",
    "        } else {\n",
    "            return ((t1.getViewQuality() + t2.getViewQuality()) / 2) - 10;\n",
    "        }\n",
    "    }\n",
    "}\n"
   ]
  },
  {
   "cell_type": "markdown",
   "metadata": {},
   "source": [
    "- The canSeat method uses t1 and t2 instead of table1 and table2, which will cause a compilation error since t1 and t2 are not defined in the method scope.\n",
    "- The canSeat method does not subtract 2 from the total number of seats as required in the problem statement (to account for lost seating when combining tables).\n",
    "- Be careful of incorrect variable references and calculation precision."
   ]
  },
  {
   "cell_type": "markdown",
   "metadata": {},
   "source": [
    "## Corrected Answer"
   ]
  },
  {
   "cell_type": "code",
   "execution_count": null,
   "metadata": {
    "vscode": {
     "languageId": "java"
    }
   },
   "outputs": [],
   "source": [
    "public class CombinedTable {\n",
    "    private SingleTable table1;\n",
    "    private SingleTable table2;\n",
    "\n",
    "    public CombinedTable(SingleTable t1, SingleTable t2) {\n",
    "        table1 = t1;\n",
    "        table2 = t2;\n",
    "    }\n",
    "\n",
    "    public boolean canSeat(int n) {\n",
    "        if (table1.getNumSeats() + table2.getNumSeats() - 2 >= n) {\n",
    "            return true;\n",
    "        } else {\n",
    "            return false;\n",
    "        }\n",
    "    }\n",
    "\n",
    "    public double getDesirability() {\n",
    "        if (table1.getHeight() == table2.getHeight()) {\n",
    "            return (table1.getViewQuality() + table2.getViewQuality()) / 2;\n",
    "        } else {\n",
    "            return ((table1.getViewQuality() + table2.getViewQuality()) / 2) - 10;\n",
    "        }\n",
    "    }\n",
    "}\n"
   ]
  }
 ],
 "metadata": {
  "language_info": {
   "name": "python"
  }
 },
 "nbformat": 4,
 "nbformat_minor": 2
}
