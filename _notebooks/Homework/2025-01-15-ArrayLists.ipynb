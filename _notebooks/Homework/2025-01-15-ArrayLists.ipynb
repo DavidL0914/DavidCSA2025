{
 "cells": [
  {
   "cell_type": "markdown",
   "metadata": {},
   "source": [
    "---\n",
    "layout: post\n",
    "title: Array Lists Homework\n",
    "type: issues\n",
    "comments: true\n",
    "courses: { csa: {week: 18} }\n",
    "type: ccc\n",
    "---"
   ]
  },
  {
   "cell_type": "markdown",
   "metadata": {},
   "source": [
    "## Part A"
   ]
  },
  {
   "cell_type": "code",
   "execution_count": null,
   "metadata": {
    "vscode": {
     "languageId": "java"
    }
   },
   "outputs": [],
   "source": [
    "public void cleanData (double lower, double upper) {\n",
    "    for (int i = temperature.size() - 1; i>= 0; i--) {\n",
    "        if (temperatures.get(i) < lower || temperatures.get(i) > upper) {\n",
    "            tempeartuers.remove(i);\n",
    "        }\n",
    "    }\n",
    "}"
   ]
  },
  {
   "cell_type": "markdown",
   "metadata": {},
   "source": [
    "## Part B"
   ]
  },
  {
   "cell_type": "code",
   "execution_count": null,
   "metadata": {
    "vscode": {
     "languageId": "java"
    }
   },
   "outputs": [],
   "source": [
    "public int longestHeatWave(double threshold){\n",
    "    int WaveLength == 0;\n",
    "    int MaxWaveLength == 0;\n",
    "\n",
    "    for (double t : temperatures) {\n",
    "        if (t > threshold) {\n",
    "            WaveLength++;\n",
    "            if (WaveLength > MaxWaveLength) {\n",
    "                MaxWaveLength == WaveLength;\n",
    "        }\n",
    "    }\n",
    "        else {\n",
    "            waveLength = 0;\n",
    "        }\n",
    "    }\n",
    "    return MaxWaveLength;\n",
    "}"
   ]
  }
 ],
 "metadata": {
  "language_info": {
   "name": "python"
  }
 },
 "nbformat": 4,
 "nbformat_minor": 2
}
