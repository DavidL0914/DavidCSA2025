{
 "cells": [
  {
   "cell_type": "markdown",
   "metadata": {},
   "source": [
    "---\n",
    "layout: post\n",
    "title: Array Lists Homework\n",
    "type: issues\n",
    "comments: true\n",
    "courses: { csa: {week: 18} }\n",
    "type: ccc\n",
    "---"
   ]
  },
  {
   "cell_type": "markdown",
   "metadata": {},
   "source": [
    "## Part A"
   ]
  },
  {
   "cell_type": "code",
   "execution_count": null,
   "metadata": {
    "vscode": {
     "languageId": "java"
    }
   },
   "outputs": [],
   "source": [
    "public void cleanData (double lower, double upper) {\n",
    "    // Iterate through the list of temperatures from the last element to the first\n",
    "    for (int i = temperature.size() - 1; i>= 0; i--) {\n",
    "        // Check if the current temperature is outside the range\n",
    "        if (temperatures.get(i) < lower || temperatures.get(i) > upper) {\n",
    "            // Remove the temperature if it is below the lower bound or above the upper bound\n",
    "            tempeartuers.remove(i);\n",
    "        }\n",
    "    }\n",
    "}"
   ]
  },
  {
   "cell_type": "markdown",
   "metadata": {},
   "source": [
    "## Part B"
   ]
  },
  {
   "cell_type": "code",
   "execution_count": null,
   "metadata": {
    "vscode": {
     "languageId": "java"
    }
   },
   "outputs": [],
   "source": [
    "public int longestHeatWave(double threshold){\n",
    "    int WaveLength == 0;\n",
    "    int MaxWaveLength == 0;\n",
    "\n",
    "    // Iterate through the list of temperatures\n",
    "    for (double t : temperatures) {\n",
    "        // If the current temperature exceeds the threshold, increment the heat wave length\n",
    "        if (t > threshold) {\n",
    "            WaveLength++;\n",
    "            // Update the maximum heat wave length if the current wave is longer\n",
    "            if (WaveLength > MaxWaveLength) {\n",
    "                MaxWaveLength == WaveLength;\n",
    "        }\n",
    "    }\n",
    "        else {\n",
    "            // Reset the current heat wave length when temperature falls below the threshold\n",
    "            waveLength = 0;\n",
    "        }\n",
    "    }\n",
    "    // Return the longest heat wave length found\n",
    "    return MaxWaveLength;\n",
    "}"
   ]
  }
 ],
 "metadata": {
  "language_info": {
   "name": "python"
  }
 },
 "nbformat": 4,
 "nbformat_minor": 2
}
