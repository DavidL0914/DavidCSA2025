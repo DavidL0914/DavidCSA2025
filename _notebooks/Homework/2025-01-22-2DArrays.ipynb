{
 "cells": [
  {
   "cell_type": "markdown",
   "metadata": {},
   "source": [
    "---\n",
    "layout: post\n",
    "title: 2D Array Homework\n",
    "type: issues\n",
    "comments: true\n",
    "courses: { csa: {week: 19} }\n",
    "type: ccc\n",
    "---"
   ]
  },
  {
   "cell_type": "code",
   "execution_count": null,
   "metadata": {
    "vscode": {
     "languageId": "java"
    }
   },
   "outputs": [],
   "source": [
    "public void repopulate {\n",
    "    // Loop through each row of the grid\n",
    "    for (int r = 0; r < grid.length; r++) {\n",
    "        // Loop through each column of the current row\n",
    "        for (int c = 0; col < grid[0].length; c++) {\n",
    "            // Generate a random number between 1 and MAX\n",
    "            int val = (int)(Math.random() * MAX) + 1;\n",
    "            // Divisible by 10 but not divisible by 100\n",
    "            while (val % 10 != 0 || val % 100 == 0) {\n",
    "                val = (int)(Math.random() * MAX) + 1;\n",
    "            }\n",
    "            // Assign the validated value to the current cell in the grid\n",
    "            grid[r][c] = val;\n",
    "        }\n",
    "    }\n",
    "}"
   ]
  },
  {
   "cell_type": "code",
   "execution_count": null,
   "metadata": {
    "vscode": {
     "languageId": "java"
    }
   },
   "outputs": [],
   "source": [
    "public int countIncreasingCols() {\n",
    "    // Initialize count of increasing columns\n",
    "    int count = 0;\n",
    "    \n",
    "    // Iterate through each column\n",
    "    for (int col = 0; col < grid[0].length; col++) {\n",
    "        boolean ordered = true;\n",
    "        // Check if the column is in increasing order\n",
    "        for (int row = 1; row < grid.length; row++) {\n",
    "            if (grid[row][col] < grid[row-1][col]) {\n",
    "                ordered = false;\n",
    "            }\n",
    "        }\n",
    "\n",
    "        // If the column is ordered, increment the count\n",
    "        if (ordered) {\n",
    "            count++;\n",
    "        }\n",
    "    } \n",
    "    \n",
    "    // Return the total count of increasing columns\n",
    "    return count;\n",
    "}\n"
   ]
  }
 ],
 "metadata": {
  "language_info": {
   "name": "python"
  }
 },
 "nbformat": 4,
 "nbformat_minor": 2
}
